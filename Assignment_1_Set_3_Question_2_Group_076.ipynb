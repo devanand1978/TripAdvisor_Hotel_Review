{
  "nbformat": 4,
  "nbformat_minor": 0,
  "metadata": {
    "colab": {
      "name": "Copy of Assignment1_Section2.ipynb",
      "provenance": [],
      "collapsed_sections": []
    },
    "kernelspec": {
      "name": "python3",
      "display_name": "Python 3"
    },
    "language_info": {
      "name": "python"
    }
  },
  "cells": [
    {
      "cell_type": "code",
      "metadata": {
        "id": "jPdJ6fg_RrQC"
      },
      "source": [
        "# Importing the necessary libraries\n",
        "import numpy as np\n",
        "import pandas as pd\n",
        "import copy\n",
        "import matplotlib.pyplot as plt\n",
        "import h5py\n",
        "import scipy\n",
        "from scipy import ndimage\n",
        "import seaborn as sns\n",
        "from sklearn.model_selection import train_test_split\n",
        "import tensorflow_hub as hub\n",
        "import tensorflow as tf\n",
        "from tensorflow import keras\n",
        "from tensorflow.keras import layers\n",
        "from keras.models import Sequential\n",
        "from tensorflow.keras.layers import Dense\n",
        "from sklearn.metrics import confusion_matrix, accuracy_score, precision_score, f1_score, recall_score\n",
        "from keras.regularizers import l2\n",
        "import time"
      ],
      "execution_count": null,
      "outputs": []
    },
    {
      "cell_type": "code",
      "metadata": {
        "colab": {
          "base_uri": "https://localhost:8080/",
          "height": 357
        },
        "id": "W6DAqvLUTZik",
        "outputId": "0656a9d2-73d0-471a-8d2e-4a58057498bc"
      },
      "source": [
        "# Print at least two review from each rating class of the dataset, for a sanity check that labels match the text.\n",
        "df = pd.read_csv(\"/content/tripadvisor_hotel_reviews.csv\") # please update the location for the file when you run this step. \n",
        "df.loc[[15,32,1,10,2,13,0,7,3,4]]"
      ],
      "execution_count": null,
      "outputs": [
        {
          "output_type": "execute_result",
          "data": {
            "text/html": [
              "<div>\n",
              "<style scoped>\n",
              "    .dataframe tbody tr th:only-of-type {\n",
              "        vertical-align: middle;\n",
              "    }\n",
              "\n",
              "    .dataframe tbody tr th {\n",
              "        vertical-align: top;\n",
              "    }\n",
              "\n",
              "    .dataframe thead th {\n",
              "        text-align: right;\n",
              "    }\n",
              "</style>\n",
              "<table border=\"1\" class=\"dataframe\">\n",
              "  <thead>\n",
              "    <tr style=\"text-align: right;\">\n",
              "      <th></th>\n",
              "      <th>Review</th>\n",
              "      <th>Rating</th>\n",
              "    </tr>\n",
              "  </thead>\n",
              "  <tbody>\n",
              "    <tr>\n",
              "      <th>15</th>\n",
              "      <td>horrible customer service hotel stay february ...</td>\n",
              "      <td>1</td>\n",
              "    </tr>\n",
              "    <tr>\n",
              "      <th>32</th>\n",
              "      <td>noise airconditioner-a standard, arranged stay...</td>\n",
              "      <td>1</td>\n",
              "    </tr>\n",
              "    <tr>\n",
              "      <th>1</th>\n",
              "      <td>ok nothing special charge diamond member hilto...</td>\n",
              "      <td>2</td>\n",
              "    </tr>\n",
              "    <tr>\n",
              "      <th>10</th>\n",
              "      <td>poor value stayed monaco seattle july, nice ho...</td>\n",
              "      <td>2</td>\n",
              "    </tr>\n",
              "    <tr>\n",
              "      <th>2</th>\n",
              "      <td>nice rooms not 4* experience hotel monaco seat...</td>\n",
              "      <td>3</td>\n",
              "    </tr>\n",
              "    <tr>\n",
              "      <th>13</th>\n",
              "      <td>nice hotel not nice staff hotel lovely staff q...</td>\n",
              "      <td>3</td>\n",
              "    </tr>\n",
              "    <tr>\n",
              "      <th>0</th>\n",
              "      <td>nice hotel expensive parking got good deal sta...</td>\n",
              "      <td>4</td>\n",
              "    </tr>\n",
              "    <tr>\n",
              "      <th>7</th>\n",
              "      <td>excellent staff, housekeeping quality hotel ch...</td>\n",
              "      <td>4</td>\n",
              "    </tr>\n",
              "    <tr>\n",
              "      <th>3</th>\n",
              "      <td>unique, great stay, wonderful time hotel monac...</td>\n",
              "      <td>5</td>\n",
              "    </tr>\n",
              "    <tr>\n",
              "      <th>4</th>\n",
              "      <td>great stay great stay, went seahawk game aweso...</td>\n",
              "      <td>5</td>\n",
              "    </tr>\n",
              "  </tbody>\n",
              "</table>\n",
              "</div>"
            ],
            "text/plain": [
              "                                               Review  Rating\n",
              "15  horrible customer service hotel stay february ...       1\n",
              "32  noise airconditioner-a standard, arranged stay...       1\n",
              "1   ok nothing special charge diamond member hilto...       2\n",
              "10  poor value stayed monaco seattle july, nice ho...       2\n",
              "2   nice rooms not 4* experience hotel monaco seat...       3\n",
              "13  nice hotel not nice staff hotel lovely staff q...       3\n",
              "0   nice hotel expensive parking got good deal sta...       4\n",
              "7   excellent staff, housekeeping quality hotel ch...       4\n",
              "3   unique, great stay, wonderful time hotel monac...       5\n",
              "4   great stay great stay, went seahawk game aweso...       5"
            ]
          },
          "metadata": {
            "tags": []
          },
          "execution_count": 2
        }
      ]
    },
    {
      "cell_type": "code",
      "metadata": {
        "colab": {
          "base_uri": "https://localhost:8080/",
          "height": 296
        },
        "id": "-qvv-uYSUVjb",
        "outputId": "79c85d8f-ee76-4427-fb1c-ef6ce9f4a873"
      },
      "source": [
        "#Plot a bar graph of class distribution in a dataset. Each bar depicts the number of reviews belonging to a particular rating. (recommended - matplotlib/seaborn libraries)\n",
        "sns.countplot(x=df[\"Rating\"])"
      ],
      "execution_count": null,
      "outputs": [
        {
          "output_type": "execute_result",
          "data": {
            "text/plain": [
              "<matplotlib.axes._subplots.AxesSubplot at 0x7f0b008a9250>"
            ]
          },
          "metadata": {
            "tags": []
          },
          "execution_count": 3
        },
        {
          "output_type": "display_data",
          "data": {
            "image/png": "[encoded data removed]",
            "text/plain": [
              "<Figure size 432x288 with 1 Axes>"
            ]
          },
          "metadata": {
            "tags": [],
            "needs_background": "light"
          }
        }
      ]
    },
    {
      "cell_type": "code",
      "metadata": {
        "colab": {
          "base_uri": "https://localhost:8080/",
          "height": 296
        },
        "id": "YMeHYaIKVoZk",
        "outputId": "9aa6fb0a-d155-4a0f-8364-06d7610259a6"
      },
      "source": [
        "#Any other visualizations that seem appropriate for this problem are encouraged but not necessary, for the points.\n",
        "df['Word_count']= df['Review'].map(lambda x: len(x.split()))\n",
        "sns.lineplot(x='Rating', data=df, y='Word_count')"
      ],
      "execution_count": null,
      "outputs": [
        {
          "output_type": "execute_result",
          "data": {
            "text/plain": [
              "<matplotlib.axes._subplots.AxesSubplot at 0x7f0b00348b90>"
            ]
          },
          "metadata": {
            "tags": []
          },
          "execution_count": 4
        },
        {
          "output_type": "display_data",
          "data": {
            "image/png": "[encoded data removed]",
            "text/plain": [
              "<Figure size 432x288 with 1 Axes>"
            ]
          },
          "metadata": {
            "tags": [],
            "needs_background": "light"
          }
        }
      ]
    },
    {
      "cell_type": "code",
      "metadata": {
        "colab": {
          "base_uri": "https://localhost:8080/"
        },
        "id": "xi4kIs0OWHuu",
        "outputId": "68924f3c-1b1c-4354-d95c-dd874c283336"
      },
      "source": [
        "#Bring the train and test data in the required format and print the shapes of the train and test data\n",
        "X,y =  df.Review,df.Rating\n",
        "X_train, X_test,y_train, y_test= train_test_split(X,y, test_size=0.30, random_state=0)\n",
        "X_train.shape,y_train.shape,X_test.shape,y_test.shape"
      ],
      "execution_count": null,
      "outputs": [
        {
          "output_type": "execute_result",
          "data": {
            "text/plain": [
              "((14343,), (14343,), (6148,), (6148,))"
            ]
          },
          "metadata": {
            "tags": []
          },
          "execution_count": 6
        }
      ]
    },
    {
      "cell_type": "code",
      "metadata": {
        "id": "4BwBqRUIbJCc"
      },
      "source": [
        "#Data Preprocessing : Bring the train and test data in the required format\n",
        "embed = hub.load(\"https://tfhub.dev/google/nnlm-en-dim128/2\")\n",
        "X_train_embed = embed(X_train)\n",
        "X_test_embed = embed(X_test)\n"
      ],
      "execution_count": null,
      "outputs": []
    },
    {
      "cell_type": "code",
      "metadata": {
        "colab": {
          "base_uri": "https://localhost:8080/"
        },
        "id": "lsEsmimSegt_",
        "outputId": "72cac0b8-feb3-41ae-9cea-9a172e3d2cc1"
      },
      "source": [
        "# Model Building :\n",
        "# 3 hidden layers - Adding more neurons would increase the training time for the model\n",
        "# Add L2 regularization\n",
        "# Added dropout of 40% after layer 2 : Added 40% as it seems to improve the accuracy of the model (20%-40%) seems a be good range. \n",
        "# Choose appropriate activaltion function\n",
        "# Print the model summary\n",
        "model = tf.keras.models.Sequential([ tf.keras.layers.Flatten(),\n",
        "                                    tf.keras.layers.Dense(1200, activation = tf.nn.relu,  bias_regularizer=l2(0.01)), \n",
        "                                    tf.keras.layers.Dense(1200, activation = tf.nn.relu, bias_regularizer=l2(0.01)),\n",
        "                                    tf.keras.layers.Dropout(.4),\n",
        "                                    tf.keras.layers.Dense(1200, activation = tf.nn.relu, bias_regularizer=l2(0.01)),\n",
        "                                    tf.keras.layers.Dense(1200, activation = tf.nn.relu, bias_regularizer=l2(0.01)),\n",
        "                                    tf.keras.layers.Dense(10, activation = tf.nn.softmax)])\n",
        "#Learing rate of .001 is chosed as high learing rate give a larger noise and very small will slow down the model reaching the minimum. \n",
        "model.compile(optimizer = tf.optimizers.Adam(learning_rate=0.001),\n",
        "              loss = 'sparse_categorical_crossentropy',\n",
        "              metrics =['accuracy'])\n",
        "#Train the model for an appropriate number of epochs. Print the train and validation accuracy and loss for each epoch. Use the appropriate batch size.\n",
        "# We have considered the train as the validation set for simplicity\n",
        "tik = time.time()\n",
        "history=model.fit(X_train_embed, y_train, batch_size=1000, epochs=10,validation_data=(X_test_embed,y_test))\n",
        "tok = time.time()\n",
        "model.summary()\n",
        "print(f\"Processing Time = {(tok-tik)} Seconds\")"
      ],
      "execution_count": null,
      "outputs": [
        {
          "output_type": "stream",
          "text": [
            "Epoch 1/10\n",
            "15/15 [==============================] - 9s 560ms/step - loss: 1.4949 - accuracy: 0.3813 - val_loss: 1.1589 - val_accuracy: 0.4746\n",
            "Epoch 2/10\n",
            "15/15 [==============================] - 8s 549ms/step - loss: 1.0917 - accuracy: 0.5061 - val_loss: 1.0299 - val_accuracy: 0.5395\n",
            "Epoch 3/10\n",
            "15/15 [==============================] - 8s 548ms/step - loss: 1.0064 - accuracy: 0.5477 - val_loss: 0.9974 - val_accuracy: 0.5581\n",
            "Epoch 4/10\n",
            "15/15 [==============================] - 8s 548ms/step - loss: 0.9773 - accuracy: 0.5608 - val_loss: 0.9776 - val_accuracy: 0.5716\n",
            "Epoch 5/10\n",
            "15/15 [==============================] - 8s 544ms/step - loss: 0.9475 - accuracy: 0.5713 - val_loss: 0.9553 - val_accuracy: 0.5782\n",
            "Epoch 6/10\n",
            "15/15 [==============================] - 8s 547ms/step - loss: 0.9285 - accuracy: 0.5861 - val_loss: 0.9865 - val_accuracy: 0.5582\n",
            "Epoch 7/10\n",
            "15/15 [==============================] - 8s 547ms/step - loss: 0.9174 - accuracy: 0.5893 - val_loss: 0.9440 - val_accuracy: 0.5786\n",
            "Epoch 8/10\n",
            "15/15 [==============================] - 8s 549ms/step - loss: 0.8985 - accuracy: 0.5995 - val_loss: 0.9489 - val_accuracy: 0.5828\n",
            "Epoch 9/10\n",
            "15/15 [==============================] - 8s 548ms/step - loss: 0.8750 - accuracy: 0.6117 - val_loss: 0.9503 - val_accuracy: 0.5830\n",
            "Epoch 10/10\n",
            "15/15 [==============================] - 8s 546ms/step - loss: 0.8652 - accuracy: 0.6116 - val_loss: 0.9625 - val_accuracy: 0.5779\n",
            "Model: \"sequential_4\"\n",
            "_________________________________________________________________\n",
            "Layer (type)                 Output Shape              Param #   \n",
            "=================================================================\n",
            "flatten_4 (Flatten)          (None, 128)               0         \n",
            "_________________________________________________________________\n",
            "dense_20 (Dense)             (None, 1200)              154800    \n",
            "_________________________________________________________________\n",
            "dense_21 (Dense)             (None, 1200)              1441200   \n",
            "_________________________________________________________________\n",
            "dropout_4 (Dropout)          (None, 1200)              0         \n",
            "_________________________________________________________________\n",
            "dense_22 (Dense)             (None, 1200)              1441200   \n",
            "_________________________________________________________________\n",
            "dense_23 (Dense)             (None, 1200)              1441200   \n",
            "_________________________________________________________________\n",
            "dense_24 (Dense)             (None, 10)                12010     \n",
            "=================================================================\n",
            "Total params: 4,490,410\n",
            "Trainable params: 4,490,410\n",
            "Non-trainable params: 0\n",
            "_________________________________________________________________\n",
            "Processing Time = 82.61509704589844 Seconds\n"
          ],
          "name": "stdout"
        }
      ]
    },
    {
      "cell_type": "code",
      "metadata": {
        "colab": {
          "base_uri": "https://localhost:8080/",
          "height": 590
        },
        "id": "SPI6jdRypsDl",
        "outputId": "87791ab3-2e69-44f5-80af-8a2745d81065"
      },
      "source": [
        "# Plot the loss and accuracy history graphs for both train and validation set. Print the total time taken for training.\n",
        "print(history.history.keys())\n",
        "# summarize history for accuracy\n",
        "plt.plot(history.history['accuracy'])\n",
        "plt.plot(history.history['val_accuracy'])\n",
        "plt.title('model accuracy')\n",
        "plt.ylabel('accuracy')\n",
        "plt.xlabel('epoch')\n",
        "plt.legend(['train', 'validation'], loc='upper left')\n",
        "plt.show()\n",
        "plt.plot(history.history['loss'])\n",
        "plt.plot(history.history['val_loss'])\n",
        "plt.title('model loss')\n",
        "plt.ylabel('loss')\n",
        "plt.xlabel('epoch')\n",
        "plt.legend(['train', 'validation'], loc='upper left')\n",
        "plt.show()"
      ],
      "execution_count": null,
      "outputs": [
        {
          "output_type": "stream",
          "text": [
            "dict_keys(['loss', 'accuracy', 'val_loss', 'val_accuracy'])\n"
          ],
          "name": "stdout"
        },
        {
          "output_type": "display_data",
          "data": {
            "image/png": "[encoded data removed]",
            "text/plain": [
              "<Figure size 432x288 with 1 Axes>"
            ]
          },
          "metadata": {
            "tags": [],
            "needs_background": "light"
          }
        },
        {
          "output_type": "display_data",
          "data": {
            "image/png": "[encoded data removed]",
            "text/plain": [
              "<Figure size 432x288 with 1 Axes>"
            ]
          },
          "metadata": {
            "tags": [],
            "needs_background": "light"
          }
        }
      ]
    },
    {
      "cell_type": "code",
      "metadata": {
        "id": "_20ksRbhHUci"
      },
      "source": [
        "# Predicting for the training set \n",
        "y_pred = np.argmax(model.predict(X_test_embed), axis=-1)"
      ],
      "execution_count": null,
      "outputs": []
    },
    {
      "cell_type": "code",
      "metadata": {
        "colab": {
          "base_uri": "https://localhost:8080/"
        },
        "id": "KpsJdfFSI3Od",
        "outputId": "3a6e46f1-ce83-4eb5-932b-651d40d205c3"
      },
      "source": [
        "# Evaluating the model\n",
        "eval_model=model.evaluate(X_train_embed,y_train)"
      ],
      "execution_count": null,
      "outputs": [
        {
          "output_type": "stream",
          "text": [
            "449/449 [==============================] - 5s 12ms/step - loss: 0.8248 - accuracy: 0.6368\n"
          ],
          "name": "stdout"
        }
      ]
    },
    {
      "cell_type": "code",
      "metadata": {
        "colab": {
          "base_uri": "https://localhost:8080/"
        },
        "id": "GkktT0VJJB6J",
        "outputId": "02ff9efe-026b-4d95-c219-a0c0cfaf8391"
      },
      "source": [
        "# Printing the confusion matrix and accuracy metrics.\n",
        "print(f\"Loss & Accuracy of the model built : {eval_model}\\n\")\n",
        "cm = confusion_matrix(y_test, y_pred)\n",
        "print(f\"Confusion Matrix\\n {cm}\")\n",
        "\n",
        "print(f\" Accuracy Score: {accuracy_score(y_test, y_pred)}\\n\")\n"
      ],
      "execution_count": null,
      "outputs": [
        {
          "output_type": "stream",
          "text": [
            "Loss & Accuracy of the model built : [0.8247722387313843, 0.6367565989494324]\n",
            "\n",
            "Confusion Matrix\n",
            " [[ 269   93    4   28   11]\n",
            " [ 119  232   23  135   27]\n",
            " [  25  135   45  430   73]\n",
            " [   9   73   20 1086  635]\n",
            " [   9   36    3  707 1921]]\n",
            " Accuracy Score: 0.5779115159401431\n",
            "\n"
          ],
          "name": "stdout"
        }
      ]
    },
    {
      "cell_type": "code",
      "metadata": {
        "colab": {
          "base_uri": "https://localhost:8080/"
        },
        "id": "urdKmL1ELKap",
        "outputId": "69780ad7-73a3-46d5-f841-daed89e76083"
      },
      "source": [
        "# printing the classification of the ratings\n",
        "from sklearn.metrics import classification_report\n",
        "target_names = ['Rating 1', 'Rating 2', 'Rating 3','Rating 4','Rating 5']\n",
        "print(classification_report(y_test, y_pred,target_names=target_names))"
      ],
      "execution_count": null,
      "outputs": [
        {
          "output_type": "stream",
          "text": [
            "              precision    recall  f1-score   support\n",
            "\n",
            "    Rating 1       0.62      0.66      0.64       405\n",
            "    Rating 2       0.41      0.43      0.42       536\n",
            "    Rating 3       0.47      0.06      0.11       708\n",
            "    Rating 4       0.46      0.60      0.52      1823\n",
            "    Rating 5       0.72      0.72      0.72      2676\n",
            "\n",
            "    accuracy                           0.58      6148\n",
            "   macro avg       0.54      0.49      0.48      6148\n",
            "weighted avg       0.58      0.58      0.56      6148\n",
            "\n"
          ],
          "name": "stdout"
        }
      ]
    },
    {
      "cell_type": "markdown",
      "metadata": {
        "id": "XdNDRh25zMld"
      },
      "source": [
        "Looking at the above classification report: Ratings 2 and 3 are the two most incorrectl classified text."
      ]
    },
    {
      "cell_type": "code",
      "metadata": {
        "colab": {
          "base_uri": "https://localhost:8080/"
        },
        "id": "MBjX90IUzZJF",
        "outputId": "e58330f1-edf6-4708-dda7-8c51aed47b05"
      },
      "source": [
        "#Hyperparameter training 1: Change the nummber of hidden layers and hidden units for each layer\n",
        "model = tf.keras.models.Sequential([ tf.keras.layers.Flatten(),\n",
        "                                    tf.keras.layers.Dense(1000, activation = tf.nn.relu,  bias_regularizer=l2(0.01)), \n",
        "                                    tf.keras.layers.Dense(1000, activation = tf.nn.relu, bias_regularizer=l2(0.01)),\n",
        "                                    tf.keras.layers.Dropout(.4),\n",
        "                                    tf.keras.layers.Dense(1000, activation = tf.nn.relu, bias_regularizer=l2(0.01)),\n",
        "                                    tf.keras.layers.Dense(10, activation = tf.nn.softmax)])\n",
        "#Learing rate of .001 is chosed as high learing rate give a larger noise and very small will slow down the model reaching the minimum. \n",
        "model.compile(optimizer = tf.optimizers.Adam(learning_rate=0.001),\n",
        "              loss = 'sparse_categorical_crossentropy',\n",
        "              metrics =['accuracy'])\n",
        "#Train the model for an appropriate number of epochs. Print the train and validation accuracy and loss for each epoch. Use the appropriate batch size.\n",
        "# We have considered the train as the validation set for simplicity\n",
        "tik = time.time()\n",
        "history=model.fit(X_train_embed, y_train, batch_size=1000, epochs=10,validation_data=(X_test_embed,y_test))\n",
        "tok = time.time()\n",
        "model.summary()\n",
        "print(f\"Processing Time = {(tok-tik)} Seconds\")"
      ],
      "execution_count": null,
      "outputs": [
        {
          "output_type": "stream",
          "text": [
            "Epoch 1/10\n",
            "15/15 [==============================] - 42s 282ms/step - loss: 1.4280 - accuracy: 0.4318 - val_loss: 1.1640 - val_accuracy: 0.5223\n",
            "Epoch 2/10\n",
            "15/15 [==============================] - 4s 271ms/step - loss: 1.0780 - accuracy: 0.5172 - val_loss: 1.0192 - val_accuracy: 0.5384\n",
            "Epoch 3/10\n",
            "15/15 [==============================] - 4s 271ms/step - loss: 0.9980 - accuracy: 0.5561 - val_loss: 0.9855 - val_accuracy: 0.5691\n",
            "Epoch 4/10\n",
            "15/15 [==============================] - 4s 270ms/step - loss: 0.9594 - accuracy: 0.5769 - val_loss: 0.9694 - val_accuracy: 0.5792\n",
            "Epoch 5/10\n",
            "15/15 [==============================] - 4s 272ms/step - loss: 0.9414 - accuracy: 0.5829 - val_loss: 0.9498 - val_accuracy: 0.5794\n",
            "Epoch 6/10\n",
            "15/15 [==============================] - 4s 272ms/step - loss: 0.9223 - accuracy: 0.5945 - val_loss: 0.9509 - val_accuracy: 0.5812\n",
            "Epoch 7/10\n",
            "15/15 [==============================] - 4s 269ms/step - loss: 0.9117 - accuracy: 0.5959 - val_loss: 0.9686 - val_accuracy: 0.5698\n",
            "Epoch 8/10\n",
            "15/15 [==============================] - 4s 272ms/step - loss: 0.8966 - accuracy: 0.6021 - val_loss: 0.9463 - val_accuracy: 0.5777\n",
            "Epoch 9/10\n",
            "15/15 [==============================] - 4s 268ms/step - loss: 0.8820 - accuracy: 0.6098 - val_loss: 0.9482 - val_accuracy: 0.5830\n",
            "Epoch 10/10\n",
            "15/15 [==============================] - 4s 268ms/step - loss: 0.8595 - accuracy: 0.6201 - val_loss: 0.9599 - val_accuracy: 0.5704\n",
            "Model: \"sequential_5\"\n",
            "_________________________________________________________________\n",
            "Layer (type)                 Output Shape              Param #   \n",
            "=================================================================\n",
            "flatten_5 (Flatten)          (None, 128)               0         \n",
            "_________________________________________________________________\n",
            "dense_25 (Dense)             (None, 1000)              129000    \n",
            "_________________________________________________________________\n",
            "dense_26 (Dense)             (None, 1000)              1001000   \n",
            "_________________________________________________________________\n",
            "dropout_5 (Dropout)          (None, 1000)              0         \n",
            "_________________________________________________________________\n",
            "dense_27 (Dense)             (None, 1000)              1001000   \n",
            "_________________________________________________________________\n",
            "dense_28 (Dense)             (None, 10)                10010     \n",
            "=================================================================\n",
            "Total params: 2,141,010\n",
            "Trainable params: 2,141,010\n",
            "Non-trainable params: 0\n",
            "_________________________________________________________________\n",
            "Processing Time = 79.3675217628479 Seconds\n"
          ],
          "name": "stdout"
        }
      ]
    },
    {
      "cell_type": "markdown",
      "metadata": {
        "id": "bt-8zmA41L3k"
      },
      "source": [
        "Looking at the summary - The accuracy decreased both for training and testing set."
      ]
    },
    {
      "cell_type": "code",
      "metadata": {
        "colab": {
          "base_uri": "https://localhost:8080/"
        },
        "id": "DYEUFFoa0dRm",
        "outputId": "2949a251-8ec1-44c3-a9fe-5ec261e1c31c"
      },
      "source": [
        "# Hyperparametr  Tuning : Training the model without Regularization:\n",
        "model = tf.keras.models.Sequential([ tf.keras.layers.Flatten(),\n",
        "                                    tf.keras.layers.Dense(1200, activation = tf.nn.relu), \n",
        "                                    tf.keras.layers.Dense(1200, activation = tf.nn.relu),\n",
        "                                    tf.keras.layers.Dropout(.4),\n",
        "                                    tf.keras.layers.Dense(1200, activation = tf.nn.relu),\n",
        "                                    tf.keras.layers.Dense(1200, activation = tf.nn.relu),\n",
        "                                    tf.keras.layers.Dense(10, activation = tf.nn.softmax)])\n",
        "#Learing rate of .001 is chosed as high learing rate give a larger noise and very small will slow down the model reaching the minimum. \n",
        "model.compile(optimizer = tf.optimizers.Adam(learning_rate=0.001),\n",
        "              loss = 'sparse_categorical_crossentropy',\n",
        "              metrics =['accuracy'])\n",
        "#Train the model for an appropriate number of epochs. Print the train and validation accuracy and loss for each epoch. Use the appropriate batch size.\n",
        "# We have considered the train as the validation set for simplicity\n",
        "tik = time.time()\n",
        "history=model.fit(X_train_embed, y_train, batch_size=1000, epochs=10,validation_data=(X_test_embed,y_test))\n",
        "tok = time.time()\n",
        "model.summary()\n",
        "print(f\"Processing Time = {(tok-tik)} Seconds\")"
      ],
      "execution_count": null,
      "outputs": [
        {
          "output_type": "stream",
          "text": [
            "Epoch 1/10\n",
            "15/15 [==============================] - 9s 555ms/step - loss: 1.5299 - accuracy: 0.3928 - val_loss: 1.2135 - val_accuracy: 0.4702\n",
            "Epoch 2/10\n",
            "15/15 [==============================] - 8s 541ms/step - loss: 1.0995 - accuracy: 0.5024 - val_loss: 1.0482 - val_accuracy: 0.5342\n",
            "Epoch 3/10\n",
            "15/15 [==============================] - 8s 543ms/step - loss: 1.0112 - accuracy: 0.5401 - val_loss: 1.0273 - val_accuracy: 0.5442\n",
            "Epoch 4/10\n",
            "15/15 [==============================] - 8s 541ms/step - loss: 0.9822 - accuracy: 0.5608 - val_loss: 0.9901 - val_accuracy: 0.5636\n",
            "Epoch 5/10\n",
            "15/15 [==============================] - 8s 540ms/step - loss: 0.9551 - accuracy: 0.5690 - val_loss: 0.9671 - val_accuracy: 0.5667\n",
            "Epoch 6/10\n",
            "15/15 [==============================] - 8s 540ms/step - loss: 0.9395 - accuracy: 0.5798 - val_loss: 0.9641 - val_accuracy: 0.5771\n",
            "Epoch 7/10\n",
            "15/15 [==============================] - 8s 543ms/step - loss: 0.9231 - accuracy: 0.5856 - val_loss: 0.9555 - val_accuracy: 0.5750\n",
            "Epoch 8/10\n",
            "15/15 [==============================] - 8s 542ms/step - loss: 0.9010 - accuracy: 0.6000 - val_loss: 0.9813 - val_accuracy: 0.5688\n",
            "Epoch 9/10\n",
            "15/15 [==============================] - 8s 543ms/step - loss: 0.8866 - accuracy: 0.6043 - val_loss: 0.9858 - val_accuracy: 0.5579\n",
            "Epoch 10/10\n",
            "15/15 [==============================] - 8s 546ms/step - loss: 0.8725 - accuracy: 0.6087 - val_loss: 1.0076 - val_accuracy: 0.5551\n",
            "Model: \"sequential_6\"\n",
            "_________________________________________________________________\n",
            "Layer (type)                 Output Shape              Param #   \n",
            "=================================================================\n",
            "flatten_6 (Flatten)          (None, 128)               0         \n",
            "_________________________________________________________________\n",
            "dense_29 (Dense)             (None, 1200)              154800    \n",
            "_________________________________________________________________\n",
            "dense_30 (Dense)             (None, 1200)              1441200   \n",
            "_________________________________________________________________\n",
            "dropout_6 (Dropout)          (None, 1200)              0         \n",
            "_________________________________________________________________\n",
            "dense_31 (Dense)             (None, 1200)              1441200   \n",
            "_________________________________________________________________\n",
            "dense_32 (Dense)             (None, 1200)              1441200   \n",
            "_________________________________________________________________\n",
            "dense_33 (Dense)             (None, 10)                12010     \n",
            "=================================================================\n",
            "Total params: 4,490,410\n",
            "Trainable params: 4,490,410\n",
            "Non-trainable params: 0\n",
            "_________________________________________________________________\n",
            "Processing Time = 82.48002171516418 Seconds\n"
          ],
          "name": "stdout"
        }
      ]
    },
    {
      "cell_type": "markdown",
      "metadata": {
        "id": "4CQOTfWC1ScF"
      },
      "source": [
        "Looking at the summary, the accuracy decreased for both training and testing set"
      ]
    },
    {
      "cell_type": "code",
      "metadata": {
        "id": "6kFTZDv90jGT"
      },
      "source": [
        ""
      ],
      "execution_count": null,
      "outputs": []
    }
  ]
}